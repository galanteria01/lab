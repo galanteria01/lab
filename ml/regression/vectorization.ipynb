{
 "cells": [
  {
   "cell_type": "code",
   "execution_count": 16,
   "id": "f6dda179-60ba-4536-8fb5-1f5c838a5438",
   "metadata": {},
   "outputs": [],
   "source": [
    "# This is without vectorization\n",
    "def non_vector():\n",
    "    w1 = 1\n",
    "    w2 = 2\n",
    "    w3 = 3\n",
    "    w4 = 4;\n",
    "    x1 = 1\n",
    "    x2 = 2\n",
    "    x3 = 3\n",
    "    x4 = 4\n",
    "    \n",
    "    mul = w1*x1 + w2*x2 + w3*x3 + w4*x4\n",
    "    print(mul)"
   ]
  },
  {
   "cell_type": "code",
   "execution_count": 18,
   "id": "3e51f8e8-6283-4754-be49-555f37eac645",
   "metadata": {},
   "outputs": [],
   "source": [
    "# This is with vectorization\n",
    "import numpy as np\n",
    "\n",
    "def vector():\n",
    "    x = np.array([1,2,3,4])\n",
    "    w = np.array([1,2,3,4])\n",
    "    \n",
    "    mul = np.dot(x, w)\n",
    "    print(mul)"
   ]
  },
  {
   "cell_type": "code",
   "execution_count": 63,
   "id": "940efdff-fdc7-415e-9517-a33f897d0c7a",
   "metadata": {},
   "outputs": [
    {
     "name": "stdout",
     "output_type": "stream",
     "text": [
      "30\n",
      "Execution time: 0.0001 seconds\n"
     ]
    }
   ],
   "source": [
    "import time\n",
    "\n",
    "# Record the start time\n",
    "start_time = time.time()\n",
    "\n",
    "# Your code to be timed\n",
    "non_vector()\n",
    "\n",
    "# Record the end time\n",
    "end_time = time.time()\n",
    "\n",
    "# Calculate and print the elapsed time\n",
    "elapsed_time = end_time - start_time\n",
    "print(f\"Execution time: {elapsed_time:.4f} seconds\")"
   ]
  }
 ],
 "metadata": {
  "kernelspec": {
   "display_name": "Python 3 (ipykernel)",
   "language": "python",
   "name": "python3"
  },
  "language_info": {
   "codemirror_mode": {
    "name": "ipython",
    "version": 3
   },
   "file_extension": ".py",
   "mimetype": "text/x-python",
   "name": "python",
   "nbconvert_exporter": "python",
   "pygments_lexer": "ipython3",
   "version": "3.9.6"
  }
 },
 "nbformat": 4,
 "nbformat_minor": 5
}
